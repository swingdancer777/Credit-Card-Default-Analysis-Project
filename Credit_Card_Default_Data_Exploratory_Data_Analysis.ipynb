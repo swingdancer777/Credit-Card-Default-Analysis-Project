{
  "nbformat": 4,
  "nbformat_minor": 0,
  "metadata": {
    "kernelspec": {
      "display_name": "Python 3",
      "language": "python",
      "name": "python3"
    },
    "language_info": {
      "codemirror_mode": {
        "name": "ipython",
        "version": 3
      },
      "file_extension": ".py",
      "mimetype": "text/x-python",
      "name": "python",
      "nbconvert_exporter": "python",
      "pygments_lexer": "ipython3",
      "version": "3.7.4"
    },
    "colab": {
      "name": "Credit Card Default Data - Exploratory Data Analysis.ipynb",
      "provenance": [],
      "collapsed_sections": [],
      "include_colab_link": true
    }
  },
  "cells": [
    {
      "cell_type": "markdown",
      "metadata": {
        "id": "view-in-github",
        "colab_type": "text"
      },
      "source": [
        "<a href=\"https://colab.research.google.com/github/swingdancer777/Credit-Card-Default-Analysis-Project/blob/main/Credit_Card_Default_Data_Exploratory_Data_Analysis.ipynb\" target=\"_parent\"><img src=\"https://colab.research.google.com/assets/colab-badge.svg\" alt=\"Open In Colab\"/></a>"
      ]
    },
    {
      "cell_type": "markdown",
      "metadata": {
        "id": "xG24ES41z92d"
      },
      "source": [
        "# Introduction\n",
        "### Performing data cleaning, data analysis, and data visualization on a credit card default dataset"
      ]
    },
    {
      "cell_type": "markdown",
      "metadata": {
        "id": "NmEG5Xvez92k"
      },
      "source": [
        "# Dataset\n",
        "\n",
        "This dataset holds information on credit card user demographic attributes, credit data, history of payment, bill statements, and default payments, of credit card clients in Taiwan from April 2005 to September 2005."
      ]
    },
    {
      "cell_type": "markdown",
      "metadata": {
        "id": "YsDTsTERz92k"
      },
      "source": [
        "# Variables\n",
        "There are 25 variables:\n",
        "\n",
        " ID: ID of each client\n",
        " \n",
        " LIMIT_BAL: Amount of given credit in NT dollars (includes individual and family/supplementary credit)\n",
        " \n",
        " SEX: Gender (1=male, 2=female)\n",
        " \n",
        " EDUCATION: (1=graduate school, 2=university, 3=high school, 4=others, 5=unknown, 6=unknown)\n",
        " \n",
        " MARRIAGE: Marital status (1=married, 2=single, 3=others)\n",
        " \n",
        " AGE: Age in years\n",
        " \n",
        " PAY_0: Repayment status in September, 2005 (-1=pay on time, 1=payment delay for one month, 2=payment delay for two months, ... \n",
        " 8=payment delay for eight months, 9=payment delay for nine months and above)\n",
        " \n",
        " PAY_2: Repayment status in August, 2005 (scale same as above)\n",
        " \n",
        " PAY_3: Repayment status in July, 2005 (scale same as above)\n",
        " \n",
        " PAY_4: Repayment status in June, 2005 (scale same as above)\n",
        " \n",
        " PAY_5: Repayment status in May, 2005 (scale same as above)\n",
        " \n",
        " PAY_6: Repayment status in April, 2005 (scale same as above)\n",
        " \n",
        " BILL_AMT1: Amount of bill statement in September, 2005 (NT dollar)\n",
        " \n",
        " BILL_AMT2: Amount of bill statement in August, 2005 (NT dollar)\n",
        " \n",
        " BILL_AMT3: Amount of bill statement in July, 2005 (NT dollar)\n",
        " \n",
        " BILL_AMT4: Amount of bill statement in June, 2005 (NT dollar)\n",
        " \n",
        " BILL_AMT5: Amount of bill statement in May, 2005 (NT dollar)\n",
        " \n",
        " BILL_AMT6: Amount of bill statement in April, 2005 (NT dollar)\n",
        " \n",
        " PAY_AMT1: Amount of previous payment in September, 2005 (NT dollar)\n",
        " \n",
        " PAY_AMT2: Amount of previous payment in August, 2005 (NT dollar)\n",
        " \n",
        " PAY_AMT3: Amount of previous payment in July, 2005 (NT dollar)\n",
        " \n",
        " PAY_AMT4: Amount of previous payment in June, 2005 (NT dollar)\n",
        " \n",
        " PAY_AMT5: Amount of previous payment in May, 2005 (NT dollar)\n",
        " \n",
        " PAY_AMT6: Amount of previous payment in April, 2005 (NT dollar)\n",
        " \n",
        " default.payment.next.month: Default payment (1=yes, 0=no)"
      ]
    },
    {
      "cell_type": "markdown",
      "metadata": {
        "id": "qlCZzXhyz92l"
      },
      "source": [
        "# Load libraries"
      ]
    },
    {
      "cell_type": "code",
      "metadata": {
        "id": "7VC4R8b9z92l"
      },
      "source": [
        "!pip install catboost\n",
        "!pip install lightgbm"
      ],
      "execution_count": null,
      "outputs": []
    },
    {
      "cell_type": "code",
      "metadata": {
        "id": "hqanCW48z92n"
      },
      "source": [
        "import pandas as pd # for data processing, CSV file input/output (eg, pd.read_csv) \n",
        "import numpy as np  # for linear algebra \n",
        "import matplotlib   # for graphing\n",
        "import matplotlib.pyplot as plt\n",
        "import seaborn as sns\n",
        "%matplotlib inline\n",
        "\n",
        "import gc  # garbage collection for memory mgmt\n",
        "from datetime import datetime\n",
        "from sklearn.model_selection import train_test_split\n",
        "from sklearn.model_selection import KFold\n",
        "from sklearn.metrics import roc_auc_score\n",
        "from sklearn.ensemble import RandomForestClassifier\n",
        "from sklearn.ensemble import AdaBoostClassifier\n",
        "from catboost import CatBoostClassifier  # converts categorical values into numbers\n",
        "import lightgbm as lgb # This is a gradient boosting method that uses tree-based learning algorithms\n",
        "import xgboost as xgb  # Extreme Gradient Boosting that is a decision-tree-based ensemble ML algorithm\n",
        "\n",
        "pd.set_option('display.max_columns', 100)"
      ],
      "execution_count": 6,
      "outputs": []
    },
    {
      "cell_type": "code",
      "metadata": {
        "colab": {
          "base_uri": "https://localhost:8080/"
        },
        "id": "6zVXWRkeSMJ-",
        "outputId": "3cb9a33d-b706-484b-a1f0-2486caa23d9d"
      },
      "source": [
        "from google.colab import drive\r\n",
        "drive.mount('/content/gdrive')\r\n",
        "root_path = 'gdrive/MyDrive/Credit Card Dataset/UCI_Credit_Card.csv'"
      ],
      "execution_count": 7,
      "outputs": [
        {
          "output_type": "stream",
          "text": [
            "Mounted at /content/gdrive\n"
          ],
          "name": "stdout"
        }
      ]
    },
    {
      "cell_type": "code",
      "metadata": {
        "id": "t23sMSS2NfOr"
      },
      "source": [
        "RFC_METRIC = 'gini'  # metric used for the Random Forest Classifier\r\n",
        "NUM_ESTIMATORS = 100 # number of estimators used for the random forest\r\n",
        "NO_JOBS = 4          # number of random forest jobs to run in parallel\r\n",
        "\r\n",
        "# VALIDATION SAMPLE\r\n",
        "VALID_SIZE = 0.20  # hold back 20% of the sample for testing\r\n",
        "\r\n",
        "# CROSS-VALIDATION\r\n",
        "NUMBER_KFOLDS = 5 # number of KFolds for cross-validation\r\n",
        "\r\n",
        "RANDOM_STATE = 2018\r\n",
        "\r\n",
        "MAX_ROUNDS = 1000    # number of Light Gradient Boost rounds\r\n",
        "EARLY_STOP = 50      # stop early after 50 LGB rounds\r\n",
        "OPT_ROUNDS = 1000    # Adjust after finding the optimal number of validation rounds\r\n",
        "VERBOSE_EVAL = 50    # Print out the metric result\r\n"
      ],
      "execution_count": 8,
      "outputs": []
    },
    {
      "cell_type": "markdown",
      "metadata": {
        "id": "SjM4J_W5TL5T"
      },
      "source": [
        "#Read the data"
      ]
    },
    {
      "cell_type": "code",
      "metadata": {
        "id": "al0N7fu_TRT8"
      },
      "source": [
        "# Read the CSV data into a dataframe\r\n",
        "credit_df = pd.read_csv(root_path)"
      ],
      "execution_count": 9,
      "outputs": []
    },
    {
      "cell_type": "markdown",
      "metadata": {
        "id": "qV1l5RPwUF1C"
      },
      "source": [
        "# Examine the data"
      ]
    },
    {
      "cell_type": "code",
      "metadata": {
        "colab": {
          "base_uri": "https://localhost:8080/"
        },
        "id": "LiLLhZ0_UJRd",
        "outputId": "f8aeaf62-81e3-43e4-fa9a-a5adf0916d93"
      },
      "source": [
        "# Determine the number of rows and columns in the dataset\r\n",
        "print(\"UCI Credit Card Default data - rows:\", credit_df.shape[0], \" columns:\", credit_df.shape[1])"
      ],
      "execution_count": 10,
      "outputs": [
        {
          "output_type": "stream",
          "text": [
            "UCI Credit Card Default data - rows: 30000  columns: 25\n"
          ],
          "name": "stdout"
        }
      ]
    },
    {
      "cell_type": "code",
      "metadata": {
        "colab": {
          "base_uri": "https://localhost:8080/",
          "height": 257
        },
        "id": "aEoYtGk07mcQ",
        "outputId": "a1cb1779-7e64-4918-a409-4150cb98c2d9"
      },
      "source": [
        "# Look at the first few row of data to get a sense of the data\r\n",
        "credit_df.head(7)"
      ],
      "execution_count": 11,
      "outputs": [
        {
          "output_type": "execute_result",
          "data": {
            "text/html": [
              "<div>\n",
              "<style scoped>\n",
              "    .dataframe tbody tr th:only-of-type {\n",
              "        vertical-align: middle;\n",
              "    }\n",
              "\n",
              "    .dataframe tbody tr th {\n",
              "        vertical-align: top;\n",
              "    }\n",
              "\n",
              "    .dataframe thead th {\n",
              "        text-align: right;\n",
              "    }\n",
              "</style>\n",
              "<table border=\"1\" class=\"dataframe\">\n",
              "  <thead>\n",
              "    <tr style=\"text-align: right;\">\n",
              "      <th></th>\n",
              "      <th>ID</th>\n",
              "      <th>LIMIT_BAL</th>\n",
              "      <th>SEX</th>\n",
              "      <th>EDUCATION</th>\n",
              "      <th>MARRIAGE</th>\n",
              "      <th>AGE</th>\n",
              "      <th>PAY_0</th>\n",
              "      <th>PAY_2</th>\n",
              "      <th>PAY_3</th>\n",
              "      <th>PAY_4</th>\n",
              "      <th>PAY_5</th>\n",
              "      <th>PAY_6</th>\n",
              "      <th>BILL_AMT1</th>\n",
              "      <th>BILL_AMT2</th>\n",
              "      <th>BILL_AMT3</th>\n",
              "      <th>BILL_AMT4</th>\n",
              "      <th>BILL_AMT5</th>\n",
              "      <th>BILL_AMT6</th>\n",
              "      <th>PAY_AMT1</th>\n",
              "      <th>PAY_AMT2</th>\n",
              "      <th>PAY_AMT3</th>\n",
              "      <th>PAY_AMT4</th>\n",
              "      <th>PAY_AMT5</th>\n",
              "      <th>PAY_AMT6</th>\n",
              "      <th>default.payment.next.month</th>\n",
              "    </tr>\n",
              "  </thead>\n",
              "  <tbody>\n",
              "    <tr>\n",
              "      <th>0</th>\n",
              "      <td>1</td>\n",
              "      <td>20000.0</td>\n",
              "      <td>2</td>\n",
              "      <td>2</td>\n",
              "      <td>1</td>\n",
              "      <td>24</td>\n",
              "      <td>2</td>\n",
              "      <td>2</td>\n",
              "      <td>-1</td>\n",
              "      <td>-1</td>\n",
              "      <td>-2</td>\n",
              "      <td>-2</td>\n",
              "      <td>3913.0</td>\n",
              "      <td>3102.0</td>\n",
              "      <td>689.0</td>\n",
              "      <td>0.0</td>\n",
              "      <td>0.0</td>\n",
              "      <td>0.0</td>\n",
              "      <td>0.0</td>\n",
              "      <td>689.0</td>\n",
              "      <td>0.0</td>\n",
              "      <td>0.0</td>\n",
              "      <td>0.0</td>\n",
              "      <td>0.0</td>\n",
              "      <td>1</td>\n",
              "    </tr>\n",
              "    <tr>\n",
              "      <th>1</th>\n",
              "      <td>2</td>\n",
              "      <td>120000.0</td>\n",
              "      <td>2</td>\n",
              "      <td>2</td>\n",
              "      <td>2</td>\n",
              "      <td>26</td>\n",
              "      <td>-1</td>\n",
              "      <td>2</td>\n",
              "      <td>0</td>\n",
              "      <td>0</td>\n",
              "      <td>0</td>\n",
              "      <td>2</td>\n",
              "      <td>2682.0</td>\n",
              "      <td>1725.0</td>\n",
              "      <td>2682.0</td>\n",
              "      <td>3272.0</td>\n",
              "      <td>3455.0</td>\n",
              "      <td>3261.0</td>\n",
              "      <td>0.0</td>\n",
              "      <td>1000.0</td>\n",
              "      <td>1000.0</td>\n",
              "      <td>1000.0</td>\n",
              "      <td>0.0</td>\n",
              "      <td>2000.0</td>\n",
              "      <td>1</td>\n",
              "    </tr>\n",
              "    <tr>\n",
              "      <th>2</th>\n",
              "      <td>3</td>\n",
              "      <td>90000.0</td>\n",
              "      <td>2</td>\n",
              "      <td>2</td>\n",
              "      <td>2</td>\n",
              "      <td>34</td>\n",
              "      <td>0</td>\n",
              "      <td>0</td>\n",
              "      <td>0</td>\n",
              "      <td>0</td>\n",
              "      <td>0</td>\n",
              "      <td>0</td>\n",
              "      <td>29239.0</td>\n",
              "      <td>14027.0</td>\n",
              "      <td>13559.0</td>\n",
              "      <td>14331.0</td>\n",
              "      <td>14948.0</td>\n",
              "      <td>15549.0</td>\n",
              "      <td>1518.0</td>\n",
              "      <td>1500.0</td>\n",
              "      <td>1000.0</td>\n",
              "      <td>1000.0</td>\n",
              "      <td>1000.0</td>\n",
              "      <td>5000.0</td>\n",
              "      <td>0</td>\n",
              "    </tr>\n",
              "    <tr>\n",
              "      <th>3</th>\n",
              "      <td>4</td>\n",
              "      <td>50000.0</td>\n",
              "      <td>2</td>\n",
              "      <td>2</td>\n",
              "      <td>1</td>\n",
              "      <td>37</td>\n",
              "      <td>0</td>\n",
              "      <td>0</td>\n",
              "      <td>0</td>\n",
              "      <td>0</td>\n",
              "      <td>0</td>\n",
              "      <td>0</td>\n",
              "      <td>46990.0</td>\n",
              "      <td>48233.0</td>\n",
              "      <td>49291.0</td>\n",
              "      <td>28314.0</td>\n",
              "      <td>28959.0</td>\n",
              "      <td>29547.0</td>\n",
              "      <td>2000.0</td>\n",
              "      <td>2019.0</td>\n",
              "      <td>1200.0</td>\n",
              "      <td>1100.0</td>\n",
              "      <td>1069.0</td>\n",
              "      <td>1000.0</td>\n",
              "      <td>0</td>\n",
              "    </tr>\n",
              "    <tr>\n",
              "      <th>4</th>\n",
              "      <td>5</td>\n",
              "      <td>50000.0</td>\n",
              "      <td>1</td>\n",
              "      <td>2</td>\n",
              "      <td>1</td>\n",
              "      <td>57</td>\n",
              "      <td>-1</td>\n",
              "      <td>0</td>\n",
              "      <td>-1</td>\n",
              "      <td>0</td>\n",
              "      <td>0</td>\n",
              "      <td>0</td>\n",
              "      <td>8617.0</td>\n",
              "      <td>5670.0</td>\n",
              "      <td>35835.0</td>\n",
              "      <td>20940.0</td>\n",
              "      <td>19146.0</td>\n",
              "      <td>19131.0</td>\n",
              "      <td>2000.0</td>\n",
              "      <td>36681.0</td>\n",
              "      <td>10000.0</td>\n",
              "      <td>9000.0</td>\n",
              "      <td>689.0</td>\n",
              "      <td>679.0</td>\n",
              "      <td>0</td>\n",
              "    </tr>\n",
              "    <tr>\n",
              "      <th>5</th>\n",
              "      <td>6</td>\n",
              "      <td>50000.0</td>\n",
              "      <td>1</td>\n",
              "      <td>1</td>\n",
              "      <td>2</td>\n",
              "      <td>37</td>\n",
              "      <td>0</td>\n",
              "      <td>0</td>\n",
              "      <td>0</td>\n",
              "      <td>0</td>\n",
              "      <td>0</td>\n",
              "      <td>0</td>\n",
              "      <td>64400.0</td>\n",
              "      <td>57069.0</td>\n",
              "      <td>57608.0</td>\n",
              "      <td>19394.0</td>\n",
              "      <td>19619.0</td>\n",
              "      <td>20024.0</td>\n",
              "      <td>2500.0</td>\n",
              "      <td>1815.0</td>\n",
              "      <td>657.0</td>\n",
              "      <td>1000.0</td>\n",
              "      <td>1000.0</td>\n",
              "      <td>800.0</td>\n",
              "      <td>0</td>\n",
              "    </tr>\n",
              "    <tr>\n",
              "      <th>6</th>\n",
              "      <td>7</td>\n",
              "      <td>500000.0</td>\n",
              "      <td>1</td>\n",
              "      <td>1</td>\n",
              "      <td>2</td>\n",
              "      <td>29</td>\n",
              "      <td>0</td>\n",
              "      <td>0</td>\n",
              "      <td>0</td>\n",
              "      <td>0</td>\n",
              "      <td>0</td>\n",
              "      <td>0</td>\n",
              "      <td>367965.0</td>\n",
              "      <td>412023.0</td>\n",
              "      <td>445007.0</td>\n",
              "      <td>542653.0</td>\n",
              "      <td>483003.0</td>\n",
              "      <td>473944.0</td>\n",
              "      <td>55000.0</td>\n",
              "      <td>40000.0</td>\n",
              "      <td>38000.0</td>\n",
              "      <td>20239.0</td>\n",
              "      <td>13750.0</td>\n",
              "      <td>13770.0</td>\n",
              "      <td>0</td>\n",
              "    </tr>\n",
              "  </tbody>\n",
              "</table>\n",
              "</div>"
            ],
            "text/plain": [
              "   ID  LIMIT_BAL  SEX  EDUCATION  MARRIAGE  AGE  PAY_0  PAY_2  PAY_3  PAY_4  \\\n",
              "0   1    20000.0    2          2         1   24      2      2     -1     -1   \n",
              "1   2   120000.0    2          2         2   26     -1      2      0      0   \n",
              "2   3    90000.0    2          2         2   34      0      0      0      0   \n",
              "3   4    50000.0    2          2         1   37      0      0      0      0   \n",
              "4   5    50000.0    1          2         1   57     -1      0     -1      0   \n",
              "5   6    50000.0    1          1         2   37      0      0      0      0   \n",
              "6   7   500000.0    1          1         2   29      0      0      0      0   \n",
              "\n",
              "   PAY_5  PAY_6  BILL_AMT1  BILL_AMT2  BILL_AMT3  BILL_AMT4  BILL_AMT5  \\\n",
              "0     -2     -2     3913.0     3102.0      689.0        0.0        0.0   \n",
              "1      0      2     2682.0     1725.0     2682.0     3272.0     3455.0   \n",
              "2      0      0    29239.0    14027.0    13559.0    14331.0    14948.0   \n",
              "3      0      0    46990.0    48233.0    49291.0    28314.0    28959.0   \n",
              "4      0      0     8617.0     5670.0    35835.0    20940.0    19146.0   \n",
              "5      0      0    64400.0    57069.0    57608.0    19394.0    19619.0   \n",
              "6      0      0   367965.0   412023.0   445007.0   542653.0   483003.0   \n",
              "\n",
              "   BILL_AMT6  PAY_AMT1  PAY_AMT2  PAY_AMT3  PAY_AMT4  PAY_AMT5  PAY_AMT6  \\\n",
              "0        0.0       0.0     689.0       0.0       0.0       0.0       0.0   \n",
              "1     3261.0       0.0    1000.0    1000.0    1000.0       0.0    2000.0   \n",
              "2    15549.0    1518.0    1500.0    1000.0    1000.0    1000.0    5000.0   \n",
              "3    29547.0    2000.0    2019.0    1200.0    1100.0    1069.0    1000.0   \n",
              "4    19131.0    2000.0   36681.0   10000.0    9000.0     689.0     679.0   \n",
              "5    20024.0    2500.0    1815.0     657.0    1000.0    1000.0     800.0   \n",
              "6   473944.0   55000.0   40000.0   38000.0   20239.0   13750.0   13770.0   \n",
              "\n",
              "   default.payment.next.month  \n",
              "0                           1  \n",
              "1                           1  \n",
              "2                           0  \n",
              "3                           0  \n",
              "4                           0  \n",
              "5                           0  \n",
              "6                           0  "
            ]
          },
          "metadata": {
            "tags": []
          },
          "execution_count": 11
        }
      ]
    },
    {
      "cell_type": "code",
      "metadata": {
        "colab": {
          "base_uri": "https://localhost:8080/",
          "height": 307
        },
        "id": "oxp7odo5CBn_",
        "outputId": "8d2abcb1-677c-4e13-8917-90342b8d888e"
      },
      "source": [
        "# Look at summary statistics for the dataset\r\n",
        "# Rounded to two decimals here to be easier to read\r\n",
        "# round(credit_df.describe(),2)  # alternate syntax\r\n",
        "credit_df.describe().round(2)  "
      ],
      "execution_count": 12,
      "outputs": [
        {
          "output_type": "execute_result",
          "data": {
            "text/html": [
              "<div>\n",
              "<style scoped>\n",
              "    .dataframe tbody tr th:only-of-type {\n",
              "        vertical-align: middle;\n",
              "    }\n",
              "\n",
              "    .dataframe tbody tr th {\n",
              "        vertical-align: top;\n",
              "    }\n",
              "\n",
              "    .dataframe thead th {\n",
              "        text-align: right;\n",
              "    }\n",
              "</style>\n",
              "<table border=\"1\" class=\"dataframe\">\n",
              "  <thead>\n",
              "    <tr style=\"text-align: right;\">\n",
              "      <th></th>\n",
              "      <th>ID</th>\n",
              "      <th>LIMIT_BAL</th>\n",
              "      <th>SEX</th>\n",
              "      <th>EDUCATION</th>\n",
              "      <th>MARRIAGE</th>\n",
              "      <th>AGE</th>\n",
              "      <th>PAY_0</th>\n",
              "      <th>PAY_2</th>\n",
              "      <th>PAY_3</th>\n",
              "      <th>PAY_4</th>\n",
              "      <th>PAY_5</th>\n",
              "      <th>PAY_6</th>\n",
              "      <th>BILL_AMT1</th>\n",
              "      <th>BILL_AMT2</th>\n",
              "      <th>BILL_AMT3</th>\n",
              "      <th>BILL_AMT4</th>\n",
              "      <th>BILL_AMT5</th>\n",
              "      <th>BILL_AMT6</th>\n",
              "      <th>PAY_AMT1</th>\n",
              "      <th>PAY_AMT2</th>\n",
              "      <th>PAY_AMT3</th>\n",
              "      <th>PAY_AMT4</th>\n",
              "      <th>PAY_AMT5</th>\n",
              "      <th>PAY_AMT6</th>\n",
              "      <th>default.payment.next.month</th>\n",
              "    </tr>\n",
              "  </thead>\n",
              "  <tbody>\n",
              "    <tr>\n",
              "      <th>count</th>\n",
              "      <td>30000.00</td>\n",
              "      <td>30000.00</td>\n",
              "      <td>30000.00</td>\n",
              "      <td>30000.00</td>\n",
              "      <td>30000.00</td>\n",
              "      <td>30000.00</td>\n",
              "      <td>30000.00</td>\n",
              "      <td>30000.00</td>\n",
              "      <td>30000.00</td>\n",
              "      <td>30000.00</td>\n",
              "      <td>30000.00</td>\n",
              "      <td>30000.00</td>\n",
              "      <td>30000.00</td>\n",
              "      <td>30000.00</td>\n",
              "      <td>30000.00</td>\n",
              "      <td>30000.00</td>\n",
              "      <td>30000.00</td>\n",
              "      <td>30000.00</td>\n",
              "      <td>30000.00</td>\n",
              "      <td>30000.00</td>\n",
              "      <td>30000.00</td>\n",
              "      <td>30000.00</td>\n",
              "      <td>30000.00</td>\n",
              "      <td>30000.00</td>\n",
              "      <td>30000.00</td>\n",
              "    </tr>\n",
              "    <tr>\n",
              "      <th>mean</th>\n",
              "      <td>15000.50</td>\n",
              "      <td>167484.32</td>\n",
              "      <td>1.60</td>\n",
              "      <td>1.85</td>\n",
              "      <td>1.55</td>\n",
              "      <td>35.49</td>\n",
              "      <td>-0.02</td>\n",
              "      <td>-0.13</td>\n",
              "      <td>-0.17</td>\n",
              "      <td>-0.22</td>\n",
              "      <td>-0.27</td>\n",
              "      <td>-0.29</td>\n",
              "      <td>51223.33</td>\n",
              "      <td>49179.08</td>\n",
              "      <td>47013.15</td>\n",
              "      <td>43262.95</td>\n",
              "      <td>40311.40</td>\n",
              "      <td>38871.76</td>\n",
              "      <td>5663.58</td>\n",
              "      <td>5921.16</td>\n",
              "      <td>5225.68</td>\n",
              "      <td>4826.08</td>\n",
              "      <td>4799.39</td>\n",
              "      <td>5215.50</td>\n",
              "      <td>0.22</td>\n",
              "    </tr>\n",
              "    <tr>\n",
              "      <th>std</th>\n",
              "      <td>8660.40</td>\n",
              "      <td>129747.66</td>\n",
              "      <td>0.49</td>\n",
              "      <td>0.79</td>\n",
              "      <td>0.52</td>\n",
              "      <td>9.22</td>\n",
              "      <td>1.12</td>\n",
              "      <td>1.20</td>\n",
              "      <td>1.20</td>\n",
              "      <td>1.17</td>\n",
              "      <td>1.13</td>\n",
              "      <td>1.15</td>\n",
              "      <td>73635.86</td>\n",
              "      <td>71173.77</td>\n",
              "      <td>69349.39</td>\n",
              "      <td>64332.86</td>\n",
              "      <td>60797.16</td>\n",
              "      <td>59554.11</td>\n",
              "      <td>16563.28</td>\n",
              "      <td>23040.87</td>\n",
              "      <td>17606.96</td>\n",
              "      <td>15666.16</td>\n",
              "      <td>15278.31</td>\n",
              "      <td>17777.47</td>\n",
              "      <td>0.42</td>\n",
              "    </tr>\n",
              "    <tr>\n",
              "      <th>min</th>\n",
              "      <td>1.00</td>\n",
              "      <td>10000.00</td>\n",
              "      <td>1.00</td>\n",
              "      <td>0.00</td>\n",
              "      <td>0.00</td>\n",
              "      <td>21.00</td>\n",
              "      <td>-2.00</td>\n",
              "      <td>-2.00</td>\n",
              "      <td>-2.00</td>\n",
              "      <td>-2.00</td>\n",
              "      <td>-2.00</td>\n",
              "      <td>-2.00</td>\n",
              "      <td>-165580.00</td>\n",
              "      <td>-69777.00</td>\n",
              "      <td>-157264.00</td>\n",
              "      <td>-170000.00</td>\n",
              "      <td>-81334.00</td>\n",
              "      <td>-339603.00</td>\n",
              "      <td>0.00</td>\n",
              "      <td>0.00</td>\n",
              "      <td>0.00</td>\n",
              "      <td>0.00</td>\n",
              "      <td>0.00</td>\n",
              "      <td>0.00</td>\n",
              "      <td>0.00</td>\n",
              "    </tr>\n",
              "    <tr>\n",
              "      <th>25%</th>\n",
              "      <td>7500.75</td>\n",
              "      <td>50000.00</td>\n",
              "      <td>1.00</td>\n",
              "      <td>1.00</td>\n",
              "      <td>1.00</td>\n",
              "      <td>28.00</td>\n",
              "      <td>-1.00</td>\n",
              "      <td>-1.00</td>\n",
              "      <td>-1.00</td>\n",
              "      <td>-1.00</td>\n",
              "      <td>-1.00</td>\n",
              "      <td>-1.00</td>\n",
              "      <td>3558.75</td>\n",
              "      <td>2984.75</td>\n",
              "      <td>2666.25</td>\n",
              "      <td>2326.75</td>\n",
              "      <td>1763.00</td>\n",
              "      <td>1256.00</td>\n",
              "      <td>1000.00</td>\n",
              "      <td>833.00</td>\n",
              "      <td>390.00</td>\n",
              "      <td>296.00</td>\n",
              "      <td>252.50</td>\n",
              "      <td>117.75</td>\n",
              "      <td>0.00</td>\n",
              "    </tr>\n",
              "    <tr>\n",
              "      <th>50%</th>\n",
              "      <td>15000.50</td>\n",
              "      <td>140000.00</td>\n",
              "      <td>2.00</td>\n",
              "      <td>2.00</td>\n",
              "      <td>2.00</td>\n",
              "      <td>34.00</td>\n",
              "      <td>0.00</td>\n",
              "      <td>0.00</td>\n",
              "      <td>0.00</td>\n",
              "      <td>0.00</td>\n",
              "      <td>0.00</td>\n",
              "      <td>0.00</td>\n",
              "      <td>22381.50</td>\n",
              "      <td>21200.00</td>\n",
              "      <td>20088.50</td>\n",
              "      <td>19052.00</td>\n",
              "      <td>18104.50</td>\n",
              "      <td>17071.00</td>\n",
              "      <td>2100.00</td>\n",
              "      <td>2009.00</td>\n",
              "      <td>1800.00</td>\n",
              "      <td>1500.00</td>\n",
              "      <td>1500.00</td>\n",
              "      <td>1500.00</td>\n",
              "      <td>0.00</td>\n",
              "    </tr>\n",
              "    <tr>\n",
              "      <th>75%</th>\n",
              "      <td>22500.25</td>\n",
              "      <td>240000.00</td>\n",
              "      <td>2.00</td>\n",
              "      <td>2.00</td>\n",
              "      <td>2.00</td>\n",
              "      <td>41.00</td>\n",
              "      <td>0.00</td>\n",
              "      <td>0.00</td>\n",
              "      <td>0.00</td>\n",
              "      <td>0.00</td>\n",
              "      <td>0.00</td>\n",
              "      <td>0.00</td>\n",
              "      <td>67091.00</td>\n",
              "      <td>64006.25</td>\n",
              "      <td>60164.75</td>\n",
              "      <td>54506.00</td>\n",
              "      <td>50190.50</td>\n",
              "      <td>49198.25</td>\n",
              "      <td>5006.00</td>\n",
              "      <td>5000.00</td>\n",
              "      <td>4505.00</td>\n",
              "      <td>4013.25</td>\n",
              "      <td>4031.50</td>\n",
              "      <td>4000.00</td>\n",
              "      <td>0.00</td>\n",
              "    </tr>\n",
              "    <tr>\n",
              "      <th>max</th>\n",
              "      <td>30000.00</td>\n",
              "      <td>1000000.00</td>\n",
              "      <td>2.00</td>\n",
              "      <td>6.00</td>\n",
              "      <td>3.00</td>\n",
              "      <td>79.00</td>\n",
              "      <td>8.00</td>\n",
              "      <td>8.00</td>\n",
              "      <td>8.00</td>\n",
              "      <td>8.00</td>\n",
              "      <td>8.00</td>\n",
              "      <td>8.00</td>\n",
              "      <td>964511.00</td>\n",
              "      <td>983931.00</td>\n",
              "      <td>1664089.00</td>\n",
              "      <td>891586.00</td>\n",
              "      <td>927171.00</td>\n",
              "      <td>961664.00</td>\n",
              "      <td>873552.00</td>\n",
              "      <td>1684259.00</td>\n",
              "      <td>896040.00</td>\n",
              "      <td>621000.00</td>\n",
              "      <td>426529.00</td>\n",
              "      <td>528666.00</td>\n",
              "      <td>1.00</td>\n",
              "    </tr>\n",
              "  </tbody>\n",
              "</table>\n",
              "</div>"
            ],
            "text/plain": [
              "             ID   LIMIT_BAL       SEX  EDUCATION  MARRIAGE       AGE  \\\n",
              "count  30000.00    30000.00  30000.00   30000.00  30000.00  30000.00   \n",
              "mean   15000.50   167484.32      1.60       1.85      1.55     35.49   \n",
              "std     8660.40   129747.66      0.49       0.79      0.52      9.22   \n",
              "min        1.00    10000.00      1.00       0.00      0.00     21.00   \n",
              "25%     7500.75    50000.00      1.00       1.00      1.00     28.00   \n",
              "50%    15000.50   140000.00      2.00       2.00      2.00     34.00   \n",
              "75%    22500.25   240000.00      2.00       2.00      2.00     41.00   \n",
              "max    30000.00  1000000.00      2.00       6.00      3.00     79.00   \n",
              "\n",
              "          PAY_0     PAY_2     PAY_3     PAY_4     PAY_5     PAY_6  BILL_AMT1  \\\n",
              "count  30000.00  30000.00  30000.00  30000.00  30000.00  30000.00   30000.00   \n",
              "mean      -0.02     -0.13     -0.17     -0.22     -0.27     -0.29   51223.33   \n",
              "std        1.12      1.20      1.20      1.17      1.13      1.15   73635.86   \n",
              "min       -2.00     -2.00     -2.00     -2.00     -2.00     -2.00 -165580.00   \n",
              "25%       -1.00     -1.00     -1.00     -1.00     -1.00     -1.00    3558.75   \n",
              "50%        0.00      0.00      0.00      0.00      0.00      0.00   22381.50   \n",
              "75%        0.00      0.00      0.00      0.00      0.00      0.00   67091.00   \n",
              "max        8.00      8.00      8.00      8.00      8.00      8.00  964511.00   \n",
              "\n",
              "       BILL_AMT2   BILL_AMT3  BILL_AMT4  BILL_AMT5  BILL_AMT6   PAY_AMT1  \\\n",
              "count   30000.00    30000.00   30000.00   30000.00   30000.00   30000.00   \n",
              "mean    49179.08    47013.15   43262.95   40311.40   38871.76    5663.58   \n",
              "std     71173.77    69349.39   64332.86   60797.16   59554.11   16563.28   \n",
              "min    -69777.00  -157264.00 -170000.00  -81334.00 -339603.00       0.00   \n",
              "25%      2984.75     2666.25    2326.75    1763.00    1256.00    1000.00   \n",
              "50%     21200.00    20088.50   19052.00   18104.50   17071.00    2100.00   \n",
              "75%     64006.25    60164.75   54506.00   50190.50   49198.25    5006.00   \n",
              "max    983931.00  1664089.00  891586.00  927171.00  961664.00  873552.00   \n",
              "\n",
              "         PAY_AMT2   PAY_AMT3   PAY_AMT4   PAY_AMT5   PAY_AMT6  \\\n",
              "count    30000.00   30000.00   30000.00   30000.00   30000.00   \n",
              "mean      5921.16    5225.68    4826.08    4799.39    5215.50   \n",
              "std      23040.87   17606.96   15666.16   15278.31   17777.47   \n",
              "min          0.00       0.00       0.00       0.00       0.00   \n",
              "25%        833.00     390.00     296.00     252.50     117.75   \n",
              "50%       2009.00    1800.00    1500.00    1500.00    1500.00   \n",
              "75%       5000.00    4505.00    4013.25    4031.50    4000.00   \n",
              "max    1684259.00  896040.00  621000.00  426529.00  528666.00   \n",
              "\n",
              "       default.payment.next.month  \n",
              "count                    30000.00  \n",
              "mean                         0.22  \n",
              "std                          0.42  \n",
              "min                          0.00  \n",
              "25%                          0.00  \n",
              "50%                          0.00  \n",
              "75%                          0.00  \n",
              "max                          1.00  "
            ]
          },
          "metadata": {
            "tags": []
          },
          "execution_count": 12
        }
      ]
    },
    {
      "cell_type": "code",
      "metadata": {
        "colab": {
          "base_uri": "https://localhost:8080/",
          "height": 257
        },
        "id": "MKzaAwkgEHHu",
        "outputId": "5e2ef5fd-4c8a-4a6a-86dd-50068cdcd2f7"
      },
      "source": [
        "# The New Taiwan Dollar to US Dollar exchange rate in April 2005 was around 31:1.\r\n",
        "# Show the data in terms of USD for context.\r\n",
        "# Drop columns and rows that should not be divided by the exchange rate (ie, ID, sex, education, marriage, age, count).\r\n",
        "exchg_rate = 31\r\n",
        "USD_credit_df = credit_df.drop(['ID', 'SEX', 'EDUCATION', 'MARRIAGE', 'AGE', 'PAY_0', 'PAY_2', 'PAY_3','PAY_4', 'PAY_5', 'PAY_6','default.payment.next.month'], axis=1)\r\n",
        "summary_USD_credit_df = USD_credit_df.describe()\r\n",
        "summary_USD_credit_df2 = summary_USD_credit_df.drop(['count'], axis=0)\r\n",
        "(summary_USD_credit_df2/exchg_rate).round(2)"
      ],
      "execution_count": 13,
      "outputs": [
        {
          "output_type": "execute_result",
          "data": {
            "text/html": [
              "<div>\n",
              "<style scoped>\n",
              "    .dataframe tbody tr th:only-of-type {\n",
              "        vertical-align: middle;\n",
              "    }\n",
              "\n",
              "    .dataframe tbody tr th {\n",
              "        vertical-align: top;\n",
              "    }\n",
              "\n",
              "    .dataframe thead th {\n",
              "        text-align: right;\n",
              "    }\n",
              "</style>\n",
              "<table border=\"1\" class=\"dataframe\">\n",
              "  <thead>\n",
              "    <tr style=\"text-align: right;\">\n",
              "      <th></th>\n",
              "      <th>LIMIT_BAL</th>\n",
              "      <th>BILL_AMT1</th>\n",
              "      <th>BILL_AMT2</th>\n",
              "      <th>BILL_AMT3</th>\n",
              "      <th>BILL_AMT4</th>\n",
              "      <th>BILL_AMT5</th>\n",
              "      <th>BILL_AMT6</th>\n",
              "      <th>PAY_AMT1</th>\n",
              "      <th>PAY_AMT2</th>\n",
              "      <th>PAY_AMT3</th>\n",
              "      <th>PAY_AMT4</th>\n",
              "      <th>PAY_AMT5</th>\n",
              "      <th>PAY_AMT6</th>\n",
              "    </tr>\n",
              "  </thead>\n",
              "  <tbody>\n",
              "    <tr>\n",
              "      <th>mean</th>\n",
              "      <td>5402.72</td>\n",
              "      <td>1652.37</td>\n",
              "      <td>1586.42</td>\n",
              "      <td>1516.55</td>\n",
              "      <td>1395.58</td>\n",
              "      <td>1300.37</td>\n",
              "      <td>1253.93</td>\n",
              "      <td>182.70</td>\n",
              "      <td>191.01</td>\n",
              "      <td>168.57</td>\n",
              "      <td>155.68</td>\n",
              "      <td>154.82</td>\n",
              "      <td>168.24</td>\n",
              "    </tr>\n",
              "    <tr>\n",
              "      <th>std</th>\n",
              "      <td>4185.41</td>\n",
              "      <td>2375.35</td>\n",
              "      <td>2295.93</td>\n",
              "      <td>2237.08</td>\n",
              "      <td>2075.25</td>\n",
              "      <td>1961.20</td>\n",
              "      <td>1921.10</td>\n",
              "      <td>534.30</td>\n",
              "      <td>743.25</td>\n",
              "      <td>567.97</td>\n",
              "      <td>505.36</td>\n",
              "      <td>492.85</td>\n",
              "      <td>573.47</td>\n",
              "    </tr>\n",
              "    <tr>\n",
              "      <th>min</th>\n",
              "      <td>322.58</td>\n",
              "      <td>-5341.29</td>\n",
              "      <td>-2250.87</td>\n",
              "      <td>-5073.03</td>\n",
              "      <td>-5483.87</td>\n",
              "      <td>-2623.68</td>\n",
              "      <td>-10954.94</td>\n",
              "      <td>0.00</td>\n",
              "      <td>0.00</td>\n",
              "      <td>0.00</td>\n",
              "      <td>0.00</td>\n",
              "      <td>0.00</td>\n",
              "      <td>0.00</td>\n",
              "    </tr>\n",
              "    <tr>\n",
              "      <th>25%</th>\n",
              "      <td>1612.90</td>\n",
              "      <td>114.80</td>\n",
              "      <td>96.28</td>\n",
              "      <td>86.01</td>\n",
              "      <td>75.06</td>\n",
              "      <td>56.87</td>\n",
              "      <td>40.52</td>\n",
              "      <td>32.26</td>\n",
              "      <td>26.87</td>\n",
              "      <td>12.58</td>\n",
              "      <td>9.55</td>\n",
              "      <td>8.15</td>\n",
              "      <td>3.80</td>\n",
              "    </tr>\n",
              "    <tr>\n",
              "      <th>50%</th>\n",
              "      <td>4516.13</td>\n",
              "      <td>721.98</td>\n",
              "      <td>683.87</td>\n",
              "      <td>648.02</td>\n",
              "      <td>614.58</td>\n",
              "      <td>584.02</td>\n",
              "      <td>550.68</td>\n",
              "      <td>67.74</td>\n",
              "      <td>64.81</td>\n",
              "      <td>58.06</td>\n",
              "      <td>48.39</td>\n",
              "      <td>48.39</td>\n",
              "      <td>48.39</td>\n",
              "    </tr>\n",
              "    <tr>\n",
              "      <th>75%</th>\n",
              "      <td>7741.94</td>\n",
              "      <td>2164.23</td>\n",
              "      <td>2064.72</td>\n",
              "      <td>1940.80</td>\n",
              "      <td>1758.26</td>\n",
              "      <td>1619.05</td>\n",
              "      <td>1587.04</td>\n",
              "      <td>161.48</td>\n",
              "      <td>161.29</td>\n",
              "      <td>145.32</td>\n",
              "      <td>129.46</td>\n",
              "      <td>130.05</td>\n",
              "      <td>129.03</td>\n",
              "    </tr>\n",
              "    <tr>\n",
              "      <th>max</th>\n",
              "      <td>32258.06</td>\n",
              "      <td>31113.26</td>\n",
              "      <td>31739.71</td>\n",
              "      <td>53680.29</td>\n",
              "      <td>28760.84</td>\n",
              "      <td>29908.74</td>\n",
              "      <td>31021.42</td>\n",
              "      <td>28179.10</td>\n",
              "      <td>54330.94</td>\n",
              "      <td>28904.52</td>\n",
              "      <td>20032.26</td>\n",
              "      <td>13759.00</td>\n",
              "      <td>17053.74</td>\n",
              "    </tr>\n",
              "  </tbody>\n",
              "</table>\n",
              "</div>"
            ],
            "text/plain": [
              "      LIMIT_BAL  BILL_AMT1  BILL_AMT2  BILL_AMT3  BILL_AMT4  BILL_AMT5  \\\n",
              "mean    5402.72    1652.37    1586.42    1516.55    1395.58    1300.37   \n",
              "std     4185.41    2375.35    2295.93    2237.08    2075.25    1961.20   \n",
              "min      322.58   -5341.29   -2250.87   -5073.03   -5483.87   -2623.68   \n",
              "25%     1612.90     114.80      96.28      86.01      75.06      56.87   \n",
              "50%     4516.13     721.98     683.87     648.02     614.58     584.02   \n",
              "75%     7741.94    2164.23    2064.72    1940.80    1758.26    1619.05   \n",
              "max    32258.06   31113.26   31739.71   53680.29   28760.84   29908.74   \n",
              "\n",
              "      BILL_AMT6  PAY_AMT1  PAY_AMT2  PAY_AMT3  PAY_AMT4  PAY_AMT5  PAY_AMT6  \n",
              "mean    1253.93    182.70    191.01    168.57    155.68    154.82    168.24  \n",
              "std     1921.10    534.30    743.25    567.97    505.36    492.85    573.47  \n",
              "min   -10954.94      0.00      0.00      0.00      0.00      0.00      0.00  \n",
              "25%       40.52     32.26     26.87     12.58      9.55      8.15      3.80  \n",
              "50%      550.68     67.74     64.81     58.06     48.39     48.39     48.39  \n",
              "75%     1587.04    161.48    161.29    145.32    129.46    130.05    129.03  \n",
              "max    31021.42  28179.10  54330.94  28904.52  20032.26  13759.00  17053.74  "
            ]
          },
          "metadata": {
            "tags": []
          },
          "execution_count": 13
        }
      ]
    },
    {
      "cell_type": "markdown",
      "metadata": {
        "id": "Ujh5GQAeFNzM"
      },
      "source": [
        "#Describe the data in words\r\n",
        "\r\n",
        "These data are of credit card users in Taiwan from April 2005 - Sept 2005.\r\n",
        "The New Taiwan Dollar (NTD) to US Dollar (USD) exchange rate was about 31 NTD to 1 USD in April 2005.\r\n",
        "\r\n",
        "There are 30,000 credit lines.\r\n",
        "\r\n",
        "The average credit limit is USD 5402 / NTD 167,484.\r\n",
        "\r\n",
        "The average credit card bill amount ranged from USD 1254 to 1652 / NTD 38,871 to 51,223.\r\n",
        "\r\n",
        "The average payment amount ranged from USD 154 to 191 / NTD 4799 to 5921.\r\n",
        "\r\n",
        "Most of the users have a university or graduate level education.\r\n",
        "\r\n",
        "Most of the users are married or single.\r\n",
        "\r\n",
        "The average age is 35.5 years, and the middle 50% of the population ranges from 21 years to 41 years old.\r\n",
        "\r\n",
        "For \"default payment\", \"0\" means \"no default\" and \"1\" means \"default\". The average is 0.22, which indicates that 22% of credit card users will default in the next month. This will be verified in this examination.\r\n"
      ]
    },
    {
      "cell_type": "markdown",
      "metadata": {
        "id": "aYM-bsZHV1ed"
      },
      "source": [
        "### Check for missing data \r\n",
        "\r\n",
        "Use the original dataset in New Taiwan Dollars to check"
      ]
    },
    {
      "cell_type": "code",
      "metadata": {
        "colab": {
          "base_uri": "https://localhost:8080/",
          "height": 107
        },
        "id": "BwtHOaTUWAgC",
        "outputId": "18a1e6b9-1e40-4b5e-a98a-1d882df9f4c4"
      },
      "source": [
        "total_values = credit_df.isnull().sum().sort_values(ascending = False)\r\n",
        "percent_of_total = (credit_df.isnull().sum()/credit_df.isnull().count()*100).sort_values(ascending = False)\r\n",
        "pd.concat([total_values, percent_of_total], axis=1, keys=['Total_Value', 'Percent_of_Total']).transpose()"
      ],
      "execution_count": 15,
      "outputs": [
        {
          "output_type": "execute_result",
          "data": {
            "text/html": [
              "<div>\n",
              "<style scoped>\n",
              "    .dataframe tbody tr th:only-of-type {\n",
              "        vertical-align: middle;\n",
              "    }\n",
              "\n",
              "    .dataframe tbody tr th {\n",
              "        vertical-align: top;\n",
              "    }\n",
              "\n",
              "    .dataframe thead th {\n",
              "        text-align: right;\n",
              "    }\n",
              "</style>\n",
              "<table border=\"1\" class=\"dataframe\">\n",
              "  <thead>\n",
              "    <tr style=\"text-align: right;\">\n",
              "      <th></th>\n",
              "      <th>default.payment.next.month</th>\n",
              "      <th>PAY_6</th>\n",
              "      <th>LIMIT_BAL</th>\n",
              "      <th>SEX</th>\n",
              "      <th>EDUCATION</th>\n",
              "      <th>MARRIAGE</th>\n",
              "      <th>AGE</th>\n",
              "      <th>PAY_0</th>\n",
              "      <th>PAY_2</th>\n",
              "      <th>PAY_3</th>\n",
              "      <th>PAY_4</th>\n",
              "      <th>PAY_5</th>\n",
              "      <th>BILL_AMT1</th>\n",
              "      <th>PAY_AMT6</th>\n",
              "      <th>BILL_AMT2</th>\n",
              "      <th>BILL_AMT3</th>\n",
              "      <th>BILL_AMT4</th>\n",
              "      <th>BILL_AMT5</th>\n",
              "      <th>BILL_AMT6</th>\n",
              "      <th>PAY_AMT1</th>\n",
              "      <th>PAY_AMT2</th>\n",
              "      <th>PAY_AMT3</th>\n",
              "      <th>PAY_AMT4</th>\n",
              "      <th>PAY_AMT5</th>\n",
              "      <th>ID</th>\n",
              "    </tr>\n",
              "  </thead>\n",
              "  <tbody>\n",
              "    <tr>\n",
              "      <th>Total_Value</th>\n",
              "      <td>0.0</td>\n",
              "      <td>0.0</td>\n",
              "      <td>0.0</td>\n",
              "      <td>0.0</td>\n",
              "      <td>0.0</td>\n",
              "      <td>0.0</td>\n",
              "      <td>0.0</td>\n",
              "      <td>0.0</td>\n",
              "      <td>0.0</td>\n",
              "      <td>0.0</td>\n",
              "      <td>0.0</td>\n",
              "      <td>0.0</td>\n",
              "      <td>0.0</td>\n",
              "      <td>0.0</td>\n",
              "      <td>0.0</td>\n",
              "      <td>0.0</td>\n",
              "      <td>0.0</td>\n",
              "      <td>0.0</td>\n",
              "      <td>0.0</td>\n",
              "      <td>0.0</td>\n",
              "      <td>0.0</td>\n",
              "      <td>0.0</td>\n",
              "      <td>0.0</td>\n",
              "      <td>0.0</td>\n",
              "      <td>0.0</td>\n",
              "    </tr>\n",
              "    <tr>\n",
              "      <th>Percent_of_Total</th>\n",
              "      <td>0.0</td>\n",
              "      <td>0.0</td>\n",
              "      <td>0.0</td>\n",
              "      <td>0.0</td>\n",
              "      <td>0.0</td>\n",
              "      <td>0.0</td>\n",
              "      <td>0.0</td>\n",
              "      <td>0.0</td>\n",
              "      <td>0.0</td>\n",
              "      <td>0.0</td>\n",
              "      <td>0.0</td>\n",
              "      <td>0.0</td>\n",
              "      <td>0.0</td>\n",
              "      <td>0.0</td>\n",
              "      <td>0.0</td>\n",
              "      <td>0.0</td>\n",
              "      <td>0.0</td>\n",
              "      <td>0.0</td>\n",
              "      <td>0.0</td>\n",
              "      <td>0.0</td>\n",
              "      <td>0.0</td>\n",
              "      <td>0.0</td>\n",
              "      <td>0.0</td>\n",
              "      <td>0.0</td>\n",
              "      <td>0.0</td>\n",
              "    </tr>\n",
              "  </tbody>\n",
              "</table>\n",
              "</div>"
            ],
            "text/plain": [
              "                  default.payment.next.month  PAY_6  LIMIT_BAL  SEX  \\\n",
              "Total_Value                              0.0    0.0        0.0  0.0   \n",
              "Percent_of_Total                         0.0    0.0        0.0  0.0   \n",
              "\n",
              "                  EDUCATION  MARRIAGE  AGE  PAY_0  PAY_2  PAY_3  PAY_4  PAY_5  \\\n",
              "Total_Value             0.0       0.0  0.0    0.0    0.0    0.0    0.0    0.0   \n",
              "Percent_of_Total        0.0       0.0  0.0    0.0    0.0    0.0    0.0    0.0   \n",
              "\n",
              "                  BILL_AMT1  PAY_AMT6  BILL_AMT2  BILL_AMT3  BILL_AMT4  \\\n",
              "Total_Value             0.0       0.0        0.0        0.0        0.0   \n",
              "Percent_of_Total        0.0       0.0        0.0        0.0        0.0   \n",
              "\n",
              "                  BILL_AMT5  BILL_AMT6  PAY_AMT1  PAY_AMT2  PAY_AMT3  \\\n",
              "Total_Value             0.0        0.0       0.0       0.0       0.0   \n",
              "Percent_of_Total        0.0        0.0       0.0       0.0       0.0   \n",
              "\n",
              "                  PAY_AMT4  PAY_AMT5   ID  \n",
              "Total_Value            0.0       0.0  0.0  \n",
              "Percent_of_Total       0.0       0.0  0.0  "
            ]
          },
          "metadata": {
            "tags": []
          },
          "execution_count": 15
        }
      ]
    },
    {
      "cell_type": "markdown",
      "metadata": {
        "id": "g6pSYAdgeWWi"
      },
      "source": [
        "There is no missing data in the credit payment data set."
      ]
    },
    {
      "cell_type": "markdown",
      "metadata": {
        "id": "ylysAQkSfsra"
      },
      "source": [
        "### Check for imbalanced data\r\n",
        "\r\n",
        "**default.payment.next.month** is the target result, so we will check for imbalanced data in this value."
      ]
    },
    {
      "cell_type": "code",
      "metadata": {
        "colab": {
          "base_uri": "https://localhost:8080/",
          "height": 418
        },
        "id": "VpRIE9vUlsXk",
        "outputId": "06867017-51c4-4be2-c9ef-2c6e196524da"
      },
      "source": [
        "# count the number of \"next month default payments\" that are defaults and that are not\r\n",
        "temp_df = credit_df['default.payment.next.month'].value_counts() \r\n",
        "df1 = pd.DataFrame({'default.payment.next.month': temp_df.index, 'NT_dollar_amounts': temp_df.values})\r\n",
        "plt.figure(figsize = (6,6))\r\n",
        "plt.title('Default Credit Card Users - Targe Value - Imbalanced Data Graph\\n (Default = 0, Not Default = 1')\r\n",
        "sns.set_color_codes('deep')\r\n",
        "sns.barplot(x = 'default.payment.next.month', y = 'NT_dollar_amounts', data = df1)\r\n",
        "locs, labels = plt.xticks()\r\n",
        "plt.show()"
      ],
      "execution_count": 16,
      "outputs": [
        {
          "output_type": "display_data",
          "data": {
            "image/png": "[encoded data removed]",
            "text/plain": [
              "<Figure size 432x432 with 1 Axes>"
            ]
          },
          "metadata": {
            "tags": [],
            "needs_background": "light"
          }
        }
      ]
    },
    {
      "cell_type": "code",
      "metadata": {
        "colab": {
          "base_uri": "https://localhost:8080/"
        },
        "id": "sdTalUvpwuXW",
        "outputId": "0ef18a75-8d30-4ef3-f81c-9fa721e95ce6"
      },
      "source": [
        "expected_default_pct = credit_df['default.payment.next.month'].mean()\r\n",
        "print(\"Expected/average percentage of defaults next month:\", expected_default_pct)\r\n",
        "print(\"Expected/average number of defaults next month:\", expected_default_pct*30000)"
      ],
      "execution_count": 17,
      "outputs": [
        {
          "output_type": "stream",
          "text": [
            "Expected/average percentage of defaults next month: 0.2212\n",
            "Expected/average number of defaults next month: 6636.0\n"
          ],
          "name": "stdout"
        }
      ]
    },
    {
      "cell_type": "markdown",
      "metadata": {
        "id": "MOkxgVBhzYIp"
      },
      "source": [
        "Out of 30,000 credit card users, 6636 (which is 22.12%) are expected to default next month.\r\n",
        "This number seems sufficiently large compared to the total, so the 'default.payment.next.month' value is not significantly imbalanced."
      ]
    },
    {
      "cell_type": "markdown",
      "metadata": {
        "id": "mv_YnDMUz3c3"
      },
      "source": [
        "# Exploratory Data Analysis"
      ]
    },
    {
      "cell_type": "markdown",
      "metadata": {
        "id": "Q2LWeE_c86zA"
      },
      "source": [
        "### Credit limit amount\r\n"
      ]
    },
    {
      "cell_type": "code",
      "metadata": {
        "colab": {
          "base_uri": "https://localhost:8080/",
          "height": 460
        },
        "id": "8uRwtMT88-8R",
        "outputId": "cfb88734-bbbd-430e-9c89-bcfec21ff516"
      },
      "source": [
        "plt.figure(figsize = (14,6))\r\n",
        "plt.title('Credit limit amount - Graphed by Density')\r\n",
        "sns.set_color_codes(\"deep\")\r\n",
        "sns.distplot(credit_df['LIMIT_BAL'], kde=True, bins=200, color=\"blue\")  #kde = True means to plot the gaussian kernl density estimate\r\n",
        "plt.show()"
      ],
      "execution_count": 18,
      "outputs": [
        {
          "output_type": "stream",
          "text": [
            "/usr/local/lib/python3.6/dist-packages/seaborn/distributions.py:2551: FutureWarning: `distplot` is a deprecated function and will be removed in a future version. Please adapt your code to use either `displot` (a figure-level function with similar flexibility) or `histplot` (an axes-level function for histograms).\n",
            "  warnings.warn(msg, FutureWarning)\n"
          ],
          "name": "stderr"
        },
        {
          "output_type": "display_data",
          "data": {
            "image/png": "[encoded data removed]",
            "text/plain": [
              "<Figure size 1008x432 with 1 Axes>"
            ]
          },
          "metadata": {
            "tags": [],
            "needs_background": "light"
          }
        }
      ]
    },
    {
      "cell_type": "markdown",
      "metadata": {
        "id": "0mfnXIs0Ca8g"
      },
      "source": [
        "The credit limit that has been granted the most to users is NTD 50,000. This will be verified."
      ]
    },
    {
      "cell_type": "code",
      "metadata": {
        "colab": {
          "base_uri": "https://localhost:8080/"
        },
        "id": "TkqRRaM9CtWb",
        "outputId": "ff63513e-87f5-4852-ed88-f18d9b06a78f"
      },
      "source": [
        "credit_df['LIMIT_BAL'].value_counts().shape"
      ],
      "execution_count": 19,
      "outputs": [
        {
          "output_type": "execute_result",
          "data": {
            "text/plain": [
              "(81,)"
            ]
          },
          "metadata": {
            "tags": []
          },
          "execution_count": 19
        }
      ]
    },
    {
      "cell_type": "markdown",
      "metadata": {
        "id": "jX-4V69QDTe4"
      },
      "source": [
        "The \"credit limit\" variable has 81 unique values."
      ]
    },
    {
      "cell_type": "code",
      "metadata": {
        "colab": {
          "base_uri": "https://localhost:8080/"
        },
        "id": "udPvIJijDfgW",
        "outputId": "a4b13e3c-14ab-4559-ae7e-7ecc2e97c839"
      },
      "source": [
        "credit_df['LIMIT_BAL'].value_counts().head(7)"
      ],
      "execution_count": 20,
      "outputs": [
        {
          "output_type": "execute_result",
          "data": {
            "text/plain": [
              "50000.0     3365\n",
              "20000.0     1976\n",
              "30000.0     1610\n",
              "80000.0     1567\n",
              "200000.0    1528\n",
              "150000.0    1110\n",
              "100000.0    1048\n",
              "Name: LIMIT_BAL, dtype: int64"
            ]
          },
          "metadata": {
            "tags": []
          },
          "execution_count": 20
        }
      ]
    },
    {
      "cell_type": "markdown",
      "metadata": {
        "id": "U8lI9ybtEZyd"
      },
      "source": [
        "The largest number of credit cards (3365) has a limit of NTD 50,000.\r\n",
        "\r\n",
        "The second largest number of credit cards (1976) has a limit of NTD 20,000.\r\n",
        "\r\n",
        "The third largest number of credit cards (1610) has a limit of NTD 30,000."
      ]
    },
    {
      "cell_type": "markdown",
      "metadata": {
        "id": "qYktyDI9ErRX"
      },
      "source": [
        "# Credit limit amounts grouped by default payment next month\r\n",
        "\r\n",
        "Now we visualize the density plot for amount of credit limit (LIMIT_BAL), grouped by default payment next month."
      ]
    },
    {
      "cell_type": "code",
      "metadata": {
        "colab": {
          "base_uri": "https://localhost:8080/",
          "height": 495
        },
        "id": "lhB2Phl_5K7O",
        "outputId": "c6e4e1cb-12ff-4a50-887b-0f97a46986f5"
      },
      "source": [
        "class_0 = credit_df.loc[credit_df['default.payment.next.month'] == 0][\"LIMIT_BAL\"]\r\n",
        "class_1 = credit_df.loc[credit_df['default.payment.next.month'] == 1][\"LIMIT_BAL\"]\r\n",
        "plt.figure(figsize = (14,6))\r\n",
        "plt.title('Default amount of credit limit  - grouped by Default Payment Next Month (Density Plot)')\r\n",
        "sns.set_color_codes(\"pastel\")\r\n",
        "sns.distplot(class_1,kde=True,bins=200, color=\"red\")\r\n",
        "sns.distplot(class_0,kde=True,bins=200, color=\"green\")\r\n",
        "plt.show()"
      ],
      "execution_count": 22,
      "outputs": [
        {
          "output_type": "stream",
          "text": [
            "/usr/local/lib/python3.6/dist-packages/seaborn/distributions.py:2551: FutureWarning: `distplot` is a deprecated function and will be removed in a future version. Please adapt your code to use either `displot` (a figure-level function with similar flexibility) or `histplot` (an axes-level function for histograms).\n",
            "  warnings.warn(msg, FutureWarning)\n",
            "/usr/local/lib/python3.6/dist-packages/seaborn/distributions.py:2551: FutureWarning: `distplot` is a deprecated function and will be removed in a future version. Please adapt your code to use either `displot` (a figure-level function with similar flexibility) or `histplot` (an axes-level function for histograms).\n",
            "  warnings.warn(msg, FutureWarning)\n"
          ],
          "name": "stderr"
        },
        {
          "output_type": "display_data",
          "data": {
            "image/png": "[encoded data removed]",
            "text/plain": [
              "<Figure size 1008x432 with 1 Axes>"
            ]
          },
          "metadata": {
            "tags": [],
            "needs_background": "light"
          }
        }
      ]
    },
    {
      "cell_type": "markdown",
      "metadata": {
        "id": "XLl6gzjZ_ZdX"
      },
      "source": [
        "In the density graph above, accounts that default are graphed in red. Accounts that do not are graphed in green. We see that most defaults happen to credit limits up to NTD 100,000 (\"0.1\" on the graph). We also see that the density for defaulting accounts is higher than for non-defaulting accounts. Finally, the credit limits of NTD 20,000, NTD 30,000, and NTD 50,000 are also high (shown by large red lines)."
      ]
    }
  ]
}